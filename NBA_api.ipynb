{
 "cells": [
  {
   "cell_type": "markdown",
   "metadata": {},
   "source": [
    "## Request to NBA API  \n",
    "\n",
    "Details for filling later.\n",
    "\n",
    "API Docs:  https://www.balldontlie.io/home.html#introduction\n",
    "\n",
    "No key required.  "
   ]
  },
  {
   "cell_type": "code",
   "execution_count": 1,
   "metadata": {
    "tags": []
   },
   "outputs": [],
   "source": [
    "import pandas as pd\n",
    "import os # use this to access your environment variables\n",
    "import requests # this will be used to call the APIs\n",
    "import json # this will be used to begin parsing the json file"
   ]
  },
  {
   "cell_type": "markdown",
   "metadata": {},
   "source": [
    "Either use Postman (?) or run this: \"https://www.balldontlie.io/api/v1/players\"\n",
    "\n",
    "The above will retrieve all players.\n",
    "\n",
    "Per their docs, the params are:\n",
    "\n",
    "* page, default(0), The page number, used for pagination.  \n",
    "* per_page, default(25), The number of results returned per call, used for pagination. Max 100.  \n",
    "* search, Used to filter players based on their name. For example, `?search=davis` will return players that have 'davis' in their first or last name.  \n",
    "\n",
    "The details on all the information that can be retrieved and what the watch-outs are go on for a while on this page.  Probably needs to be carefully considered to ensure there's enough but not astronomical amounts of data.\n"
   ]
  },
  {
   "cell_type": "code",
   "execution_count": 1,
   "metadata": {
    "tags": []
   },
   "outputs": [
    {
     "ename": "IndentationError",
     "evalue": "unexpected indent (261015148.py, line 5)",
     "output_type": "error",
     "traceback": [
      "\u001b[1;36m  Cell \u001b[1;32mIn[1], line 5\u001b[1;36m\u001b[0m\n\u001b[1;33m    url = \"<enter URL here>\"\u001b[0m\n\u001b[1;37m    ^\u001b[0m\n\u001b[1;31mIndentationError\u001b[0m\u001b[1;31m:\u001b[0m unexpected indent\n"
     ]
    }
   ],
   "source": [
    "all_data_nba = []\n",
    "\n",
    "#for item in list:   # just commented out for now.\n",
    "    \n",
    "    url = \"<enter URL here>\"\n",
    "\n",
    "    # params is where we'll specify the various things listed on the docs site, such as maybe certain players, or teams, etc.\n",
    "    # If there are quite a few fields to feed into this, they may have to be put in a list and fed in.  The lats & longs from\n",
    "    # CityBikes were \n",
    "    \n",
    "    params = {              \n",
    "    \"param1\": ,                      \n",
    "    \"param2\": ,\n",
    "    \"param3\": \"some_string_if_appropriate\",\n",
    "    \"param4\":\"blah\",\n",
    "    \"param5\":\"blah, blah, blah\"     \n",
    "}\n",
    "\n",
    "    # presumably still need stuff like this?...\n",
    "    headers = {\n",
    "    \"Accept\": \"application/json\"\n",
    "}\n",
    "\n",
    "    response_nba = requests.request(\"GET\", url, params=params, headers=headers)    \n",
    "\n",
    "    print(response_nba.status_code)    \n",
    "    \n",
    "    if response_nba.status_code == 200:  \n",
    "    \n",
    "        # SAVE RAW RESPONSE AS JSON FILE HERE FOR FSQ.\n",
    "     \n",
    "            # Use the `.json()` method to get the data as a Python dictionary\n",
    "            data_nba = response_nba.json()\n",
    "            all_data_nba.append(data_nba)\n",
    "            \n",
    "# Specify the desired file name\n",
    "file_name = 'json_nba.json'                            \n",
    "            \n",
    "# Open a file for writing\n",
    "\n",
    "with open(file_name, 'w') as file:\n",
    "# Use json.dump to write the Python dictionary to the file in JSON format\n",
    "# `indent` is set to 4 for pretty printing\n",
    "    json.dump(all_data_nba, file, indent=4)\n",
    "                    \n",
    "print(f\"JSON Formatted API response saved to {file_name}\")\n",
    "#    else:\n",
    "#        print(f\"Error: {response_nba.status_code}\")"
   ]
  },
  {
   "cell_type": "code",
   "execution_count": 2,
   "metadata": {
    "tags": []
   },
   "outputs": [
    {
     "ename": "NameError",
     "evalue": "name 'pd' is not defined",
     "output_type": "error",
     "traceback": [
      "\u001b[1;31m---------------------------------------------------------------------------\u001b[0m",
      "\u001b[1;31mNameError\u001b[0m                                 Traceback (most recent call last)",
      "Cell \u001b[1;32mIn[2], line 5\u001b[0m\n\u001b[0;32m      2\u001b[0m file_name \u001b[38;5;241m=\u001b[39m \u001b[38;5;124m'\u001b[39m\u001b[38;5;124mjson_nba.json\u001b[39m\u001b[38;5;124m'\u001b[39m                          \n\u001b[0;32m      4\u001b[0m \u001b[38;5;66;03m# Read the JSON file directly into a DataFrame\u001b[39;00m\n\u001b[1;32m----> 5\u001b[0m df_nba \u001b[38;5;241m=\u001b[39m pd\u001b[38;5;241m.\u001b[39mread_json(file_name)\n\u001b[0;32m      7\u001b[0m \u001b[38;5;66;03m# Explore the DataFrame\u001b[39;00m\n\u001b[0;32m      8\u001b[0m \u001b[38;5;28mprint\u001b[39m(df_nba\u001b[38;5;241m.\u001b[39mhead())\n",
      "\u001b[1;31mNameError\u001b[0m: name 'pd' is not defined"
     ]
    }
   ],
   "source": [
    "# Specify the file path or name\n",
    "file_name = 'json_nba.json'                          \n",
    "\n",
    "# Read the JSON file directly into a DataFrame\n",
    "df_nba = pd.read_json(file_name)\n",
    "\n",
    "# Explore the DataFrame\n",
    "print(df_nba.head())"
   ]
  },
  {
   "cell_type": "markdown",
   "metadata": {},
   "source": [
    "##### Parse through the response"
   ]
  },
  {
   "cell_type": "code",
   "execution_count": 3,
   "metadata": {
    "tags": []
   },
   "outputs": [
    {
     "ename": "NameError",
     "evalue": "name 'pd' is not defined",
     "output_type": "error",
     "traceback": [
      "\u001b[1;31m---------------------------------------------------------------------------\u001b[0m",
      "\u001b[1;31mNameError\u001b[0m                                 Traceback (most recent call last)",
      "Cell \u001b[1;32mIn[3], line 1\u001b[0m\n\u001b[1;32m----> 1\u001b[0m pd\u001b[38;5;241m.\u001b[39mset_option(\u001b[38;5;124m'\u001b[39m\u001b[38;5;124mdisplay.max_columns\u001b[39m\u001b[38;5;124m'\u001b[39m, \u001b[38;5;28;01mNone\u001b[39;00m)\n\u001b[0;32m      2\u001b[0m df_nba_norm \u001b[38;5;241m=\u001b[39m pd\u001b[38;5;241m.\u001b[39mjson_normalize(df_nba[\u001b[38;5;124m'\u001b[39m\u001b[38;5;124mresults\u001b[39m\u001b[38;5;124m'\u001b[39m][\u001b[38;5;241m0\u001b[39m]) \u001b[38;5;66;03m# modify as required\u001b[39;00m\n\u001b[0;32m      3\u001b[0m df_nba_norm\u001b[38;5;241m.\u001b[39mhead(\u001b[38;5;241m3\u001b[39m)\n",
      "\u001b[1;31mNameError\u001b[0m: name 'pd' is not defined"
     ]
    }
   ],
   "source": [
    "pd.set_option('display.max_columns', None)\n",
    "df_nba_norm = pd.json_normalize(df_nba['results'][0]) # modify as required\n",
    "df_nba_norm.head(3)"
   ]
  },
  {
   "cell_type": "code",
   "execution_count": 4,
   "metadata": {
    "tags": []
   },
   "outputs": [
    {
     "ename": "NameError",
     "evalue": "name 'df_nba' is not defined",
     "output_type": "error",
     "traceback": [
      "\u001b[1;31m---------------------------------------------------------------------------\u001b[0m",
      "\u001b[1;31mNameError\u001b[0m                                 Traceback (most recent call last)",
      "Cell \u001b[1;32mIn[4], line 1\u001b[0m\n\u001b[1;32m----> 1\u001b[0m df_nba[\u001b[38;5;124m'\u001b[39m\u001b[38;5;124mresults\u001b[39m\u001b[38;5;124m'\u001b[39m]\n",
      "\u001b[1;31mNameError\u001b[0m: name 'df_nba' is not defined"
     ]
    }
   ],
   "source": [
    "df_nba['results'] # all 'get' requests are packed in here."
   ]
  },
  {
   "cell_type": "markdown",
   "metadata": {
    "tags": []
   },
   "source": [
    "Doing some drilling down to see how some nested cells are packed."
   ]
  },
  {
   "cell_type": "code",
   "execution_count": 5,
   "metadata": {
    "tags": []
   },
   "outputs": [
    {
     "ename": "NameError",
     "evalue": "name 'df_nba_norm' is not defined",
     "output_type": "error",
     "traceback": [
      "\u001b[1;31m---------------------------------------------------------------------------\u001b[0m",
      "\u001b[1;31mNameError\u001b[0m                                 Traceback (most recent call last)",
      "Cell \u001b[1;32mIn[5], line 1\u001b[0m\n\u001b[1;32m----> 1\u001b[0m df_nba_norm[\u001b[38;5;124m'\u001b[39m\u001b[38;5;124msomecol_name_seen_in_norm_above\u001b[39m\u001b[38;5;124m'\u001b[39m][\u001b[38;5;241m0\u001b[39m]\n",
      "\u001b[1;31mNameError\u001b[0m: name 'df_nba_norm' is not defined"
     ]
    }
   ],
   "source": [
    "df_nba_norm['somecol_name_seen_in_norm_above'][0]"
   ]
  },
  {
   "cell_type": "markdown",
   "metadata": {},
   "source": [
    "##### Put your parsed results into a DataFrame"
   ]
  },
  {
   "cell_type": "markdown",
   "metadata": {},
   "source": [
    "The below needs to be amended to the json packed structure in question.  It won't work as-is for a few reasons: the column names (or whatever you want to call the fields to unpack) have nothing to do with the NBA set (naturally), and the structure may be slightly different.  The below was for the FSQ json response."
   ]
  },
  {
   "cell_type": "code",
   "execution_count": 62,
   "metadata": {
    "tags": []
   },
   "outputs": [
    {
     "data": {
      "text/html": [
       "<div>\n",
       "<style scoped>\n",
       "    .dataframe tbody tr th:only-of-type {\n",
       "        vertical-align: middle;\n",
       "    }\n",
       "\n",
       "    .dataframe tbody tr th {\n",
       "        vertical-align: top;\n",
       "    }\n",
       "\n",
       "    .dataframe thead th {\n",
       "        text-align: right;\n",
       "    }\n",
       "</style>\n",
       "<table border=\"1\" class=\"dataframe\">\n",
       "  <thead>\n",
       "    <tr style=\"text-align: right;\">\n",
       "      <th></th>\n",
       "      <th>Bike Station</th>\n",
       "      <th>Business</th>\n",
       "      <th>Distance</th>\n",
       "      <th>Type</th>\n",
       "      <th>Latitude</th>\n",
       "      <th>Longitude</th>\n",
       "    </tr>\n",
       "  </thead>\n",
       "  <tbody>\n",
       "    <tr>\n",
       "      <th>1</th>\n",
       "      <td>Bike Station 0</td>\n",
       "      <td>Pub l'Abreuvoir Inc</td>\n",
       "      <td>116.0</td>\n",
       "      <td>Restaurant</td>\n",
       "      <td>45.516164</td>\n",
       "      <td>-73.565324</td>\n",
       "    </tr>\n",
       "    <tr>\n",
       "      <th>2</th>\n",
       "      <td>Bike Station 0</td>\n",
       "      <td>Le Saint Bock</td>\n",
       "      <td>132.0</td>\n",
       "      <td>American Restaurant</td>\n",
       "      <td>45.515893</td>\n",
       "      <td>-73.564685</td>\n",
       "    </tr>\n",
       "    <tr>\n",
       "      <th>3</th>\n",
       "      <td>Bike Station 0</td>\n",
       "      <td>Arcade MTL</td>\n",
       "      <td>132.0</td>\n",
       "      <td>Arcade</td>\n",
       "      <td>45.516495</td>\n",
       "      <td>-73.565819</td>\n",
       "    </tr>\n",
       "    <tr>\n",
       "      <th>4</th>\n",
       "      <td>Bike Station 0</td>\n",
       "      <td>Brasserie Artisanale l'Amère a Boire Inc</td>\n",
       "      <td>149.0</td>\n",
       "      <td>Beer Garden</td>\n",
       "      <td>45.516435</td>\n",
       "      <td>-73.565962</td>\n",
       "    </tr>\n",
       "    <tr>\n",
       "      <th>5</th>\n",
       "      <td>Bike Station 0</td>\n",
       "      <td>Le Cheval Blanc</td>\n",
       "      <td>156.0</td>\n",
       "      <td>Restaurant</td>\n",
       "      <td>45.518170</td>\n",
       "      <td>-73.564467</td>\n",
       "    </tr>\n",
       "    <tr>\n",
       "      <th>...</th>\n",
       "      <td>...</td>\n",
       "      <td>...</td>\n",
       "      <td>...</td>\n",
       "      <td>...</td>\n",
       "      <td>...</td>\n",
       "      <td>...</td>\n",
       "    </tr>\n",
       "    <tr>\n",
       "      <th>1440</th>\n",
       "      <td>Bike Station 160</td>\n",
       "      <td>Bruno Sport Bar</td>\n",
       "      <td>467.0</td>\n",
       "      <td>Sports Bar</td>\n",
       "      <td>45.533058</td>\n",
       "      <td>-73.606083</td>\n",
       "    </tr>\n",
       "    <tr>\n",
       "      <th>1441</th>\n",
       "      <td>Bike Station 160</td>\n",
       "      <td>Bar l'Emisphère Gauche</td>\n",
       "      <td>475.0</td>\n",
       "      <td>Lounge</td>\n",
       "      <td>45.532247</td>\n",
       "      <td>-73.606832</td>\n",
       "    </tr>\n",
       "    <tr>\n",
       "      <th>1442</th>\n",
       "      <td>Bike Station 160</td>\n",
       "      <td>Grillade Lafirenze Plus</td>\n",
       "      <td>475.0</td>\n",
       "      <td>Steakhouse</td>\n",
       "      <td>45.534182</td>\n",
       "      <td>-73.598415</td>\n",
       "    </tr>\n",
       "    <tr>\n",
       "      <th>1443</th>\n",
       "      <td>Bike Station 160</td>\n",
       "      <td>Caifan Tacos Bar</td>\n",
       "      <td>506.0</td>\n",
       "      <td>Mexican Restaurant</td>\n",
       "      <td>45.531316</td>\n",
       "      <td>-73.607868</td>\n",
       "    </tr>\n",
       "    <tr>\n",
       "      <th>1444</th>\n",
       "      <td>Bike Station 160</td>\n",
       "      <td>Pizza Bouquet</td>\n",
       "      <td>506.0</td>\n",
       "      <td>Pizzeria</td>\n",
       "      <td>45.530856</td>\n",
       "      <td>-73.608144</td>\n",
       "    </tr>\n",
       "  </tbody>\n",
       "</table>\n",
       "<p>1444 rows × 6 columns</p>\n",
       "</div>"
      ],
      "text/plain": [
       "          Bike Station                                  Business  Distance  \\\n",
       "1       Bike Station 0                       Pub l'Abreuvoir Inc     116.0   \n",
       "2       Bike Station 0                             Le Saint Bock     132.0   \n",
       "3       Bike Station 0                                Arcade MTL     132.0   \n",
       "4       Bike Station 0  Brasserie Artisanale l'Amère a Boire Inc     149.0   \n",
       "5       Bike Station 0                           Le Cheval Blanc     156.0   \n",
       "...                ...                                       ...       ...   \n",
       "1440  Bike Station 160                           Bruno Sport Bar     467.0   \n",
       "1441  Bike Station 160                    Bar l'Emisphère Gauche     475.0   \n",
       "1442  Bike Station 160                   Grillade Lafirenze Plus     475.0   \n",
       "1443  Bike Station 160                          Caifan Tacos Bar     506.0   \n",
       "1444  Bike Station 160                             Pizza Bouquet     506.0   \n",
       "\n",
       "                     Type   Latitude  Longitude  \n",
       "1              Restaurant  45.516164 -73.565324  \n",
       "2     American Restaurant  45.515893 -73.564685  \n",
       "3                  Arcade  45.516495 -73.565819  \n",
       "4             Beer Garden  45.516435 -73.565962  \n",
       "5              Restaurant  45.518170 -73.564467  \n",
       "...                   ...        ...        ...  \n",
       "1440           Sports Bar  45.533058 -73.606083  \n",
       "1441               Lounge  45.532247 -73.606832  \n",
       "1442           Steakhouse  45.534182 -73.598415  \n",
       "1443   Mexican Restaurant  45.531316 -73.607868  \n",
       "1444             Pizzeria  45.530856 -73.608144  \n",
       "\n",
       "[1444 rows x 6 columns]"
      ]
     },
     "execution_count": 62,
     "metadata": {},
     "output_type": "execute_result"
    }
   ],
   "source": [
    "fsq_unpack = pd.DataFrame(columns=[]) # I'd start by calling this nba_unpack... not that it's real critical\n",
    "count = 0\n",
    "for q in range(len(df_fsq)):\n",
    "    for r in range(len(df_fsq.at[q, 'results'])):\n",
    "        count += 1\n",
    "        if len(df_fsq['results'][q][r]) >= 1:\n",
    "            for s in range(len(df_fsq['results'][q][r]['categories'])):\n",
    "                fsq_unpack.at[count, 'Bike Station'] = f\"Bike Station {q}\"\n",
    "                fsq_unpack.at[count, 'Business'] = df_fsq['results'][q][r]['name']\n",
    "                fsq_unpack.at[count, 'Distance'] = df_fsq['results'][q][r]['distance']\n",
    "                fsq_unpack.at[count, 'Type'] = df_fsq['results'][q][r]['categories'][s]['name']\n",
    "                fsq_unpack.at[count, 'Latitude'] = df_fsq['results'][q][r]['geocodes']['main']['latitude']\n",
    "                fsq_unpack.at[count, 'Longitude'] = df_fsq['results'][q][r]['geocodes']['main']['longitude']\n",
    "fsq_unpack"
   ]
  },
  {
   "cell_type": "markdown",
   "metadata": {},
   "source": [
    "##### Cleaning\n",
    "\n",
    "Goodness knows what this will look like."
   ]
  },
  {
   "cell_type": "code",
   "execution_count": 6,
   "metadata": {
    "tags": []
   },
   "outputs": [
    {
     "ename": "NameError",
     "evalue": "name 'nba_final_cleaned_df' is not defined",
     "output_type": "error",
     "traceback": [
      "\u001b[1;31m---------------------------------------------------------------------------\u001b[0m",
      "\u001b[1;31mNameError\u001b[0m                                 Traceback (most recent call last)",
      "Cell \u001b[1;32mIn[6], line 1\u001b[0m\n\u001b[1;32m----> 1\u001b[0m nba_final_cleaned_df\u001b[38;5;241m.\u001b[39mto_csv(\u001b[38;5;124m'\u001b[39m\u001b[38;5;124mnba_clean_df.csv\u001b[39m\u001b[38;5;124m'\u001b[39m, index\u001b[38;5;241m=\u001b[39m\u001b[38;5;28;01mFalse\u001b[39;00m)\n",
      "\u001b[1;31mNameError\u001b[0m: name 'nba_final_cleaned_df' is not defined"
     ]
    }
   ],
   "source": [
    "nba_final_cleaned_df.to_csv('nba_clean_df.csv', index=False) # in case it's handy to export it."
   ]
  },
  {
   "cell_type": "code",
   "execution_count": null,
   "metadata": {},
   "outputs": [],
   "source": []
  }
 ],
 "metadata": {
  "kernelspec": {
   "display_name": "Python 3 (ipykernel)",
   "language": "python",
   "name": "python3"
  },
  "language_info": {
   "codemirror_mode": {
    "name": "ipython",
    "version": 3
   },
   "file_extension": ".py",
   "mimetype": "text/x-python",
   "name": "python",
   "nbconvert_exporter": "python",
   "pygments_lexer": "ipython3",
   "version": "3.11.5"
  }
 },
 "nbformat": 4,
 "nbformat_minor": 4
}
